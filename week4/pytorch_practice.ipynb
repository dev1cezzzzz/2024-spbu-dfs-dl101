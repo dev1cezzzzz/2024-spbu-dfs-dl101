{
 "cells": [
  {
   "cell_type": "markdown",
   "id": "cffdd5d6-3712-45d2-b5c0-cbb48b5f377d",
   "metadata": {},
   "source": [
    "# Обучение моделей в Pytorch, CVAT, обзоры бэкбонов для задач компьютерного зрения"
   ]
  },
  {
   "cell_type": "code",
   "execution_count": null,
   "id": "fc6d115c-830d-40e7-9f88-ceaefccec14c",
   "metadata": {},
   "outputs": [],
   "source": [
    "# colab не может найти зависимость\n",
    "# !pip install accelerate"
   ]
  },
  {
   "cell_type": "code",
   "execution_count": null,
   "id": "2fc18f6a-31c9-4ff1-b7a7-02a7a13f85cd",
   "metadata": {},
   "outputs": [],
   "source": [
    "import os\n",
    "import random\n",
    "from os.path import join as pjoin\n",
    "from shutil import rmtree\n",
    "\n",
    "import albumentations\n",
    "import numpy as np\n",
    "import torch\n",
    "from accelerate import Accelerator\n",
    "from albumentations.pytorch.transforms import ToTensorV2\n",
    "from dataset import CustomVOCSegmentation\n",
    "from matplotlib import pyplot as plt\n",
    "from PIL import Image\n",
    "from torch import nn\n",
    "from torch.nn import functional as F\n",
    "from torch.utils.data import DataLoader\n",
    "from torch.utils.tensorboard import SummaryWriter\n",
    "from torchvision import datasets\n",
    "from train import (\n",
    "    CheckpointSaver,\n",
    "    IoUMetric,\n",
    "    MulticlassCrossEntropyLoss,\n",
    "    MulticlassDiceLoss,\n",
    "    load_checkpoint,\n",
    "    train,\n",
    ")\n",
    "from unet import UNet, count_model_params"
   ]
  },
  {
   "cell_type": "code",
   "execution_count": null,
   "id": "12069a41-bbcb-4292-931b-27c367515ef8",
   "metadata": {},
   "outputs": [],
   "source": [
    "def seed_everything(seed: int = 314159, torch_deterministic: bool = False) -> None:\n",
    "    os.environ[\"PYTHONHASHSEED\"] = str(seed)\n",
    "    random.seed(seed)\n",
    "    np.random.seed(seed)\n",
    "    torch.manual_seed(seed)\n",
    "    torch.cuda.manual_seed(seed)\n",
    "    torch.use_deterministic_algorithms(torch_deterministic)\n",
    "\n",
    "\n",
    "seed_everything(42, torch_deterministic=False)"
   ]
  },
  {
   "cell_type": "markdown",
   "id": "a88cc6ba-7bbf-403f-acca-b6b1e6978d45",
   "metadata": {},
   "source": [
    "## Dataset"
   ]
  },
  {
   "cell_type": "markdown",
   "id": "7b0f487b-abee-4652-b95b-cb1affbe6c34",
   "metadata": {},
   "source": [
    "Набор данных Pascal VOC.\n",
    "\n",
    "Сайт: http://host.robots.ox.ac.uk/pascal/VOC/\n",
    "\n",
    "Лидерборд за 2012 год: http://host.robots.ox.ac.uk:8080/leaderboard/displaylb_main.php?challengeid=11&compid=5"
   ]
  },
  {
   "cell_type": "code",
   "execution_count": null,
   "id": "ca0588ea-ba82-4379-a23e-8e039e934844",
   "metadata": {},
   "outputs": [],
   "source": [
    "IMAGE_SIZE = 256\n",
    "transforms = albumentations.Compose(\n",
    "    [\n",
    "        albumentations.PadIfNeeded(min_height=IMAGE_SIZE, min_width=IMAGE_SIZE, p=1),\n",
    "        albumentations.CropNonEmptyMaskIfExists(height=IMAGE_SIZE, width=IMAGE_SIZE),\n",
    "        albumentations.HorizontalFlip(p=0.5),\n",
    "        # albumentations.AdvancedBlur(p=0.5),\n",
    "        # albumentations.GaussNoise(p=0.5),\n",
    "        # albumentations.CLAHE(p=0.5),\n",
    "        # albumentations.RandomBrightnessContrast(p=0.5),\n",
    "        # albumentations.RandomGamma(p=0.5),\n",
    "        # albumentations.ColorJitter(p=0.5),\n",
    "        albumentations.Normalize(),\n",
    "        ToTensorV2(),\n",
    "    ]\n",
    ")"
   ]
  },
  {
   "cell_type": "code",
   "execution_count": null,
   "id": "d5f057bd-99cc-4053-86a5-af4feaa556be",
   "metadata": {},
   "outputs": [],
   "source": [
    "# запустите, если датасет не скачан\n",
    "\n",
    "# dataset = datasets.VOCSegmentation(\n",
    "#     root=\"data\",\n",
    "#     year=\"2012\",\n",
    "#     image_set=\"trainval\",\n",
    "#     download=True,\n",
    "#     transforms=transforms,\n",
    "# )"
   ]
  },
  {
   "cell_type": "code",
   "execution_count": null,
   "id": "a88e21f6-543f-47a2-97ef-781a0a997449",
   "metadata": {},
   "outputs": [],
   "source": [
    "train_dataset = CustomVOCSegmentation(\n",
    "    root=\"data\",\n",
    "    year=\"2012\",\n",
    "    image_set=\"train\",\n",
    "    download=False,\n",
    "    transform=transforms,\n",
    ")\n",
    "\n",
    "val_dataset = CustomVOCSegmentation(\n",
    "    root=\"data\",\n",
    "    year=\"2012\",\n",
    "    image_set=\"val\",\n",
    "    download=False,\n",
    "    transform=transforms,\n",
    ")"
   ]
  },
  {
   "cell_type": "markdown",
   "id": "658bce9e-3f9d-46ed-9950-1d0a66e5376f",
   "metadata": {},
   "source": [
    "## Обучение модели"
   ]
  },
  {
   "cell_type": "markdown",
   "id": "2e6fbee0-3925-494e-ae3e-a469042dd5a4",
   "metadata": {},
   "source": [
    "См. `train.py`"
   ]
  },
  {
   "cell_type": "code",
   "execution_count": null,
   "id": "7b04b29f-46ff-45aa-9cba-5a6f03c72470",
   "metadata": {},
   "outputs": [],
   "source": [
    "BACKBONE_NAME = \"resnet18\"\n",
    "\n",
    "LEARNING_RATE = 1e-3\n",
    "WEIGHT_DECAY = 1e-4\n",
    "BATCH_SIZE = 16\n",
    "NUM_WORKERS = 4\n",
    "EPOCH_NUM = 50\n",
    "CHECKPOINTS_DIR = \"checkpoints\"\n",
    "TENSORBOARD_DIR = \"tensorboard\"\n",
    "RM_CHECKPOINTS_DIR = False\n",
    "\n",
    "DEVICE = \"cuda\" if torch.cuda.is_available() else \"cpu\""
   ]
  },
  {
   "cell_type": "code",
   "execution_count": null,
   "id": "f24b17ad-99e7-4346-a5a4-38303c48221d",
   "metadata": {},
   "outputs": [],
   "source": [
    "train_dataloader = DataLoader(\n",
    "    train_dataset,\n",
    "    batch_size=BATCH_SIZE,\n",
    "    num_workers=NUM_WORKERS,\n",
    "    shuffle=True,\n",
    "    drop_last=True,\n",
    ")\n",
    "val_dataloader = DataLoader(\n",
    "    val_dataset,\n",
    "    batch_size=BATCH_SIZE,\n",
    "    num_workers=NUM_WORKERS,\n",
    "    shuffle=True,\n",
    "    drop_last=True,\n",
    ")\n",
    "\n",
    "accelerator = Accelerator(cpu=False, mixed_precision=\"no\")\n",
    "model = UNet(backbone_name=BACKBONE_NAME, classes_num=21)\n",
    "print(count_model_params(model))\n",
    "\n",
    "loss_fn = MulticlassCrossEntropyLoss()  # MulticlassDiceLoss()\n",
    "optimizer = torch.optim.AdamW(\n",
    "    model.parameters(), lr=LEARNING_RATE, weight_decay=WEIGHT_DECAY\n",
    ")\n",
    "lr_scheduler = torch.optim.lr_scheduler.StepLR(\n",
    "    optimizer=optimizer, step_size=10, gamma=0.85\n",
    ")\n",
    "metric_fn = IoUMetric(classes_num=21, ignore_index=0, reduction=\"micro\")\n",
    "\n",
    "os.makedirs(CHECKPOINTS_DIR, exist_ok=True)\n",
    "checkpointer = CheckpointSaver(\n",
    "    accelerator=accelerator,\n",
    "    model=model,\n",
    "    metric_name=\"IoU\",\n",
    "    save_dir=CHECKPOINTS_DIR,\n",
    "    rm_save_dir=RM_CHECKPOINTS_DIR,\n",
    "    max_history=5,\n",
    "    should_minimize=False,\n",
    ")"
   ]
  },
  {
   "cell_type": "code",
   "execution_count": null,
   "id": "83c16bbd-6ca0-4663-ab75-ea46492447b9",
   "metadata": {},
   "outputs": [],
   "source": [
    "# !pip install tensorboard\n",
    "# tensorboard_logger = None\n",
    "\n",
    "os.makedirs(TENSORBOARD_DIR, exist_ok=True)\n",
    "tensorboard_logger = torch.utils.tensorboard.SummaryWriter(log_dir=TENSORBOARD_DIR)"
   ]
  },
  {
   "cell_type": "code",
   "execution_count": null,
   "id": "1d830ff9-3e9e-4f0b-995c-128060eee0e9",
   "metadata": {},
   "outputs": [],
   "source": [
    "# акселерируем\n",
    "model, optimizer, train_dataloader, val_dataloader, lr_scheduler = accelerator.prepare(\n",
    "    model, optimizer, train_dataloader, val_dataloader, lr_scheduler\n",
    ")"
   ]
  },
  {
   "cell_type": "code",
   "execution_count": null,
   "id": "2f1cea82-a47b-4b74-a0e5-22de5bd3c9f4",
   "metadata": {},
   "outputs": [],
   "source": [
    "train(\n",
    "    model=model,\n",
    "    optimizer=optimizer,\n",
    "    train_dataloader=train_dataloader,\n",
    "    val_dataloader=train_dataloader,  # val_dataloader,\n",
    "    loss_function=loss_fn,\n",
    "    metric_function=metric_fn,\n",
    "    lr_scheduler=lr_scheduler,\n",
    "    accelerator=accelerator,\n",
    "    epoch_num=EPOCH_NUM,\n",
    "    checkpointer=checkpointer,\n",
    "    tb_logger=tensorboard_logger,\n",
    "    save_on_val=True,\n",
    "    show_every_x_batch=20,\n",
    ")"
   ]
  },
  {
   "cell_type": "markdown",
   "id": "51fab484-d2b8-40db-a141-4d7c4eaeb8e8",
   "metadata": {},
   "source": [
    "## Загрузим и протестируем обученную модель"
   ]
  },
  {
   "cell_type": "markdown",
   "id": "9e525873-0ec6-45af-9792-ddad215381db",
   "metadata": {},
   "source": [
    "Предобученный чекпоинт: https://disk.yandex.ru/d/C6dRX7Un1L7qsw\n",
    "\n",
    "Поместить в \".\\checkpoints\""
   ]
  },
  {
   "cell_type": "code",
   "execution_count": null,
   "id": "c8beaea3-83c6-4f8f-a3f4-392898f18ee4",
   "metadata": {},
   "outputs": [],
   "source": [
    "model = UNet(backbone_name=BACKBONE_NAME, classes_num=21)\n",
    "model = load_checkpoint(\n",
    "    model=model, load_path=pjoin(CHECKPOINTS_DIR, \"model_checkpoint_best.pt\")\n",
    ")\n",
    "model = model.to(DEVICE)\n",
    "model.eval()"
   ]
  },
  {
   "cell_type": "code",
   "execution_count": null,
   "id": "a64c5c6b-7631-4816-93cb-8156f055810c",
   "metadata": {},
   "outputs": [],
   "source": [
    "sample_idx = 42\n",
    "image, target = train_dataset[sample_idx]\n",
    "target = torch.argmax(target, axis=0)\n",
    "preds = torch.argmax(\n",
    "    model(image.unsqueeze(0).to(DEVICE)).squeeze(0), axis=0\n",
    ")\n",
    "\n",
    "fig, ax = plt.subplots(1, 3, figsize=(9, 18))\n",
    "ax[0].imshow(image.numpy().transpose(1, 2, 0).astype(np.uint8))\n",
    "ax[1].imshow(target.numpy())\n",
    "ax[2].imshow(preds.cpu().numpy());"
   ]
  },
  {
   "cell_type": "markdown",
   "id": "10a1eb7e-cd5f-4f5e-85ad-1586cc2fffb4",
   "metadata": {},
   "source": [
    "## Разметка данных с помощью CVAT\n",
    "\n",
    "Сайт: https://www.cvat.ai/"
   ]
  },
  {
   "cell_type": "markdown",
   "id": "e760a053-00bb-40d3-8e84-850f0681a162",
   "metadata": {},
   "source": [
    "## Обзоры бекбонов\n",
    "\n",
    "- Обзор до ~2020: https://arxiv.org/pdf/2206.08016.pdf\n",
    "- Свежий обзор последних новостей: https://arxiv.org/pdf/2310.19909.pdf"
   ]
  },
  {
   "cell_type": "code",
   "execution_count": null,
   "id": "83a84fab-6f01-4283-b94c-abaea18b0e2c",
   "metadata": {},
   "outputs": [],
   "source": []
  }
 ],
 "metadata": {
  "kernelspec": {
   "display_name": "Python 3 (ipykernel)",
   "language": "python",
   "name": "python3"
  },
  "language_info": {
   "codemirror_mode": {
    "name": "ipython",
    "version": 3
   },
   "file_extension": ".py",
   "mimetype": "text/x-python",
   "name": "python",
   "nbconvert_exporter": "python",
   "pygments_lexer": "ipython3",
   "version": "3.10.7"
  }
 },
 "nbformat": 4,
 "nbformat_minor": 5
}
